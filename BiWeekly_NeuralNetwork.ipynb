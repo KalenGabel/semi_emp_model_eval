{
  "cells": [
    {
      "cell_type": "markdown",
      "metadata": {
        "id": "view-in-github",
        "colab_type": "text"
      },
      "source": [
        "<a href=\"https://colab.research.google.com/github/KalenGabel/semi_emp_model_eval/blob/main/BiWeekly_NeuralNetwork.ipynb\" target=\"_parent\"><img src=\"https://colab.research.google.com/assets/colab-badge.svg\" alt=\"Open In Colab\"/></a>"
      ]
    },
    {
      "cell_type": "markdown",
      "source": [
        "# **Neural Network Code**\n",
        "\n",
        "## This notebook contains code that will set up and train a neural network on input data from a user.\n",
        "\n",
        "### Notes on Colab:\n",
        "* To run a cell hit ```shift + enter```\n",
        "* To add a code cell, hit the ```+ Code``` button on the top left\n"
      ],
      "metadata": {
        "id": "0Cgk602UKxar"
      }
    },
    {
      "cell_type": "code",
      "execution_count": null,
      "metadata": {
        "id": "oWsBowETZ3cf"
      },
      "outputs": [],
      "source": [
        "import numpy as np \n",
        "import pandas as pd"
      ]
    },
    {
      "cell_type": "code",
      "source": [
        "from google.colab import files\n",
        "uploaded = files.upload()"
      ],
      "metadata": {
        "colab": {
          "base_uri": "https://localhost:8080/",
          "height": 38
        },
        "id": "Ff1SDY7YMpth",
        "outputId": "9d53de59-1834-4b5d-c943-fbe75fcd7eb9"
      },
      "execution_count": null,
      "outputs": [
        {
          "output_type": "display_data",
          "data": {
            "text/plain": [
              "<IPython.core.display.HTML object>"
            ],
            "text/html": [
              "\n",
              "     <input type=\"file\" id=\"files-079c45b6-5154-4830-8eec-8423874acbf0\" name=\"files[]\" multiple disabled\n",
              "        style=\"border:none\" />\n",
              "     <output id=\"result-079c45b6-5154-4830-8eec-8423874acbf0\">\n",
              "      Upload widget is only available when the cell has been executed in the\n",
              "      current browser session. Please rerun this cell to enable.\n",
              "      </output>\n",
              "      <script>// Copyright 2017 Google LLC\n",
              "//\n",
              "// Licensed under the Apache License, Version 2.0 (the \"License\");\n",
              "// you may not use this file except in compliance with the License.\n",
              "// You may obtain a copy of the License at\n",
              "//\n",
              "//      http://www.apache.org/licenses/LICENSE-2.0\n",
              "//\n",
              "// Unless required by applicable law or agreed to in writing, software\n",
              "// distributed under the License is distributed on an \"AS IS\" BASIS,\n",
              "// WITHOUT WARRANTIES OR CONDITIONS OF ANY KIND, either express or implied.\n",
              "// See the License for the specific language governing permissions and\n",
              "// limitations under the License.\n",
              "\n",
              "/**\n",
              " * @fileoverview Helpers for google.colab Python module.\n",
              " */\n",
              "(function(scope) {\n",
              "function span(text, styleAttributes = {}) {\n",
              "  const element = document.createElement('span');\n",
              "  element.textContent = text;\n",
              "  for (const key of Object.keys(styleAttributes)) {\n",
              "    element.style[key] = styleAttributes[key];\n",
              "  }\n",
              "  return element;\n",
              "}\n",
              "\n",
              "// Max number of bytes which will be uploaded at a time.\n",
              "const MAX_PAYLOAD_SIZE = 100 * 1024;\n",
              "\n",
              "function _uploadFiles(inputId, outputId) {\n",
              "  const steps = uploadFilesStep(inputId, outputId);\n",
              "  const outputElement = document.getElementById(outputId);\n",
              "  // Cache steps on the outputElement to make it available for the next call\n",
              "  // to uploadFilesContinue from Python.\n",
              "  outputElement.steps = steps;\n",
              "\n",
              "  return _uploadFilesContinue(outputId);\n",
              "}\n",
              "\n",
              "// This is roughly an async generator (not supported in the browser yet),\n",
              "// where there are multiple asynchronous steps and the Python side is going\n",
              "// to poll for completion of each step.\n",
              "// This uses a Promise to block the python side on completion of each step,\n",
              "// then passes the result of the previous step as the input to the next step.\n",
              "function _uploadFilesContinue(outputId) {\n",
              "  const outputElement = document.getElementById(outputId);\n",
              "  const steps = outputElement.steps;\n",
              "\n",
              "  const next = steps.next(outputElement.lastPromiseValue);\n",
              "  return Promise.resolve(next.value.promise).then((value) => {\n",
              "    // Cache the last promise value to make it available to the next\n",
              "    // step of the generator.\n",
              "    outputElement.lastPromiseValue = value;\n",
              "    return next.value.response;\n",
              "  });\n",
              "}\n",
              "\n",
              "/**\n",
              " * Generator function which is called between each async step of the upload\n",
              " * process.\n",
              " * @param {string} inputId Element ID of the input file picker element.\n",
              " * @param {string} outputId Element ID of the output display.\n",
              " * @return {!Iterable<!Object>} Iterable of next steps.\n",
              " */\n",
              "function* uploadFilesStep(inputId, outputId) {\n",
              "  const inputElement = document.getElementById(inputId);\n",
              "  inputElement.disabled = false;\n",
              "\n",
              "  const outputElement = document.getElementById(outputId);\n",
              "  outputElement.innerHTML = '';\n",
              "\n",
              "  const pickedPromise = new Promise((resolve) => {\n",
              "    inputElement.addEventListener('change', (e) => {\n",
              "      resolve(e.target.files);\n",
              "    });\n",
              "  });\n",
              "\n",
              "  const cancel = document.createElement('button');\n",
              "  inputElement.parentElement.appendChild(cancel);\n",
              "  cancel.textContent = 'Cancel upload';\n",
              "  const cancelPromise = new Promise((resolve) => {\n",
              "    cancel.onclick = () => {\n",
              "      resolve(null);\n",
              "    };\n",
              "  });\n",
              "\n",
              "  // Wait for the user to pick the files.\n",
              "  const files = yield {\n",
              "    promise: Promise.race([pickedPromise, cancelPromise]),\n",
              "    response: {\n",
              "      action: 'starting',\n",
              "    }\n",
              "  };\n",
              "\n",
              "  cancel.remove();\n",
              "\n",
              "  // Disable the input element since further picks are not allowed.\n",
              "  inputElement.disabled = true;\n",
              "\n",
              "  if (!files) {\n",
              "    return {\n",
              "      response: {\n",
              "        action: 'complete',\n",
              "      }\n",
              "    };\n",
              "  }\n",
              "\n",
              "  for (const file of files) {\n",
              "    const li = document.createElement('li');\n",
              "    li.append(span(file.name, {fontWeight: 'bold'}));\n",
              "    li.append(span(\n",
              "        `(${file.type || 'n/a'}) - ${file.size} bytes, ` +\n",
              "        `last modified: ${\n",
              "            file.lastModifiedDate ? file.lastModifiedDate.toLocaleDateString() :\n",
              "                                    'n/a'} - `));\n",
              "    const percent = span('0% done');\n",
              "    li.appendChild(percent);\n",
              "\n",
              "    outputElement.appendChild(li);\n",
              "\n",
              "    const fileDataPromise = new Promise((resolve) => {\n",
              "      const reader = new FileReader();\n",
              "      reader.onload = (e) => {\n",
              "        resolve(e.target.result);\n",
              "      };\n",
              "      reader.readAsArrayBuffer(file);\n",
              "    });\n",
              "    // Wait for the data to be ready.\n",
              "    let fileData = yield {\n",
              "      promise: fileDataPromise,\n",
              "      response: {\n",
              "        action: 'continue',\n",
              "      }\n",
              "    };\n",
              "\n",
              "    // Use a chunked sending to avoid message size limits. See b/62115660.\n",
              "    let position = 0;\n",
              "    do {\n",
              "      const length = Math.min(fileData.byteLength - position, MAX_PAYLOAD_SIZE);\n",
              "      const chunk = new Uint8Array(fileData, position, length);\n",
              "      position += length;\n",
              "\n",
              "      const base64 = btoa(String.fromCharCode.apply(null, chunk));\n",
              "      yield {\n",
              "        response: {\n",
              "          action: 'append',\n",
              "          file: file.name,\n",
              "          data: base64,\n",
              "        },\n",
              "      };\n",
              "\n",
              "      let percentDone = fileData.byteLength === 0 ?\n",
              "          100 :\n",
              "          Math.round((position / fileData.byteLength) * 100);\n",
              "      percent.textContent = `${percentDone}% done`;\n",
              "\n",
              "    } while (position < fileData.byteLength);\n",
              "  }\n",
              "\n",
              "  // All done.\n",
              "  yield {\n",
              "    response: {\n",
              "      action: 'complete',\n",
              "    }\n",
              "  };\n",
              "}\n",
              "\n",
              "scope.google = scope.google || {};\n",
              "scope.google.colab = scope.google.colab || {};\n",
              "scope.google.colab._files = {\n",
              "  _uploadFiles,\n",
              "  _uploadFilesContinue,\n",
              "};\n",
              "})(self);\n",
              "</script> "
            ]
          },
          "metadata": {}
        }
      ]
    },
    {
      "cell_type": "code",
      "execution_count": null,
      "metadata": {
        "id": "RJa5EtOpZ3cj",
        "outputId": "ab5e1c5d-2e52-445d-b4f6-729831c0071e",
        "colab": {
          "base_uri": "https://localhost:8080/",
          "height": 317
        }
      },
      "outputs": [
        {
          "output_type": "execute_result",
          "data": {
            "text/plain": [
              "   Capacity [Btu/hr]  Power [W]  Current [Amps]  Mdot [lbs/hr]  EER [Btu/Whr]  \\\n",
              "0              11710       1495            6.57          150.5           7.83   \n",
              "1              15111       1480            6.50          191.9          10.21   \n",
              "2              18876       1457            6.40          236.6          12.96   \n",
              "3              18655       2119            9.24          274.5           8.80   \n",
              "4              20357       1855            8.09          281.7          10.97   \n",
              "\n",
              "   eta_is [%]  Tdis [F]  Tcond [F]  Tevap [F]  Capacity [kW]  ...    Tsuc [K]  \\\n",
              "0        61.7     204.5        100         10       3.431862  ...  272.038889   \n",
              "1        66.4     184.9        100         20       4.428597  ...  277.594444   \n",
              "2        70.2     171.4        100         30       5.532010  ...  283.150000   \n",
              "3        69.0     211.6        130         40       5.467241  ...  288.705556   \n",
              "4        71.9     192.4        120         40       5.966048  ...  288.705556   \n",
              "\n",
              "   Speed [RPM]  Mdot [kg/s]  Tevap [C]  Tcond [C]    SST [C]    SDT [C]  \\\n",
              "0         3600     0.018963 -12.222222  37.777778 -12.222222  37.777778   \n",
              "1         3600     0.024179  -6.666667  37.777778  -6.666667  37.777778   \n",
              "2         3600     0.029811  -1.111111  37.777778  -1.111111  37.777778   \n",
              "3         3600     0.034586   4.444444  54.444444   4.444444  54.444444   \n",
              "4         3600     0.035494   4.444444  48.888889   4.444444  48.888889   \n",
              "\n",
              "   Pevap_norm  Pcond_norm  Tsuc_norm  \n",
              "0    0.100000    0.373752   0.100000  \n",
              "1    0.238075    0.373752   0.223077  \n",
              "2    0.397155    0.373752   0.346154  \n",
              "3    0.579227    0.748048   0.469231  \n",
              "4    0.579227    0.610521   0.469231  \n",
              "\n",
              "[5 rows x 28 columns]"
            ],
            "text/html": [
              "\n",
              "  <div id=\"df-a55ea385-b9bb-452a-97b4-d56b3d66f67f\">\n",
              "    <div class=\"colab-df-container\">\n",
              "      <div>\n",
              "<style scoped>\n",
              "    .dataframe tbody tr th:only-of-type {\n",
              "        vertical-align: middle;\n",
              "    }\n",
              "\n",
              "    .dataframe tbody tr th {\n",
              "        vertical-align: top;\n",
              "    }\n",
              "\n",
              "    .dataframe thead th {\n",
              "        text-align: right;\n",
              "    }\n",
              "</style>\n",
              "<table border=\"1\" class=\"dataframe\">\n",
              "  <thead>\n",
              "    <tr style=\"text-align: right;\">\n",
              "      <th></th>\n",
              "      <th>Capacity [Btu/hr]</th>\n",
              "      <th>Power [W]</th>\n",
              "      <th>Current [Amps]</th>\n",
              "      <th>Mdot [lbs/hr]</th>\n",
              "      <th>EER [Btu/Whr]</th>\n",
              "      <th>eta_is [%]</th>\n",
              "      <th>Tdis [F]</th>\n",
              "      <th>Tcond [F]</th>\n",
              "      <th>Tevap [F]</th>\n",
              "      <th>Capacity [kW]</th>\n",
              "      <th>...</th>\n",
              "      <th>Tsuc [K]</th>\n",
              "      <th>Speed [RPM]</th>\n",
              "      <th>Mdot [kg/s]</th>\n",
              "      <th>Tevap [C]</th>\n",
              "      <th>Tcond [C]</th>\n",
              "      <th>SST [C]</th>\n",
              "      <th>SDT [C]</th>\n",
              "      <th>Pevap_norm</th>\n",
              "      <th>Pcond_norm</th>\n",
              "      <th>Tsuc_norm</th>\n",
              "    </tr>\n",
              "  </thead>\n",
              "  <tbody>\n",
              "    <tr>\n",
              "      <th>0</th>\n",
              "      <td>11710</td>\n",
              "      <td>1495</td>\n",
              "      <td>6.57</td>\n",
              "      <td>150.5</td>\n",
              "      <td>7.83</td>\n",
              "      <td>61.7</td>\n",
              "      <td>204.5</td>\n",
              "      <td>100</td>\n",
              "      <td>10</td>\n",
              "      <td>3.431862</td>\n",
              "      <td>...</td>\n",
              "      <td>272.038889</td>\n",
              "      <td>3600</td>\n",
              "      <td>0.018963</td>\n",
              "      <td>-12.222222</td>\n",
              "      <td>37.777778</td>\n",
              "      <td>-12.222222</td>\n",
              "      <td>37.777778</td>\n",
              "      <td>0.100000</td>\n",
              "      <td>0.373752</td>\n",
              "      <td>0.100000</td>\n",
              "    </tr>\n",
              "    <tr>\n",
              "      <th>1</th>\n",
              "      <td>15111</td>\n",
              "      <td>1480</td>\n",
              "      <td>6.50</td>\n",
              "      <td>191.9</td>\n",
              "      <td>10.21</td>\n",
              "      <td>66.4</td>\n",
              "      <td>184.9</td>\n",
              "      <td>100</td>\n",
              "      <td>20</td>\n",
              "      <td>4.428597</td>\n",
              "      <td>...</td>\n",
              "      <td>277.594444</td>\n",
              "      <td>3600</td>\n",
              "      <td>0.024179</td>\n",
              "      <td>-6.666667</td>\n",
              "      <td>37.777778</td>\n",
              "      <td>-6.666667</td>\n",
              "      <td>37.777778</td>\n",
              "      <td>0.238075</td>\n",
              "      <td>0.373752</td>\n",
              "      <td>0.223077</td>\n",
              "    </tr>\n",
              "    <tr>\n",
              "      <th>2</th>\n",
              "      <td>18876</td>\n",
              "      <td>1457</td>\n",
              "      <td>6.40</td>\n",
              "      <td>236.6</td>\n",
              "      <td>12.96</td>\n",
              "      <td>70.2</td>\n",
              "      <td>171.4</td>\n",
              "      <td>100</td>\n",
              "      <td>30</td>\n",
              "      <td>5.532010</td>\n",
              "      <td>...</td>\n",
              "      <td>283.150000</td>\n",
              "      <td>3600</td>\n",
              "      <td>0.029811</td>\n",
              "      <td>-1.111111</td>\n",
              "      <td>37.777778</td>\n",
              "      <td>-1.111111</td>\n",
              "      <td>37.777778</td>\n",
              "      <td>0.397155</td>\n",
              "      <td>0.373752</td>\n",
              "      <td>0.346154</td>\n",
              "    </tr>\n",
              "    <tr>\n",
              "      <th>3</th>\n",
              "      <td>18655</td>\n",
              "      <td>2119</td>\n",
              "      <td>9.24</td>\n",
              "      <td>274.5</td>\n",
              "      <td>8.80</td>\n",
              "      <td>69.0</td>\n",
              "      <td>211.6</td>\n",
              "      <td>130</td>\n",
              "      <td>40</td>\n",
              "      <td>5.467241</td>\n",
              "      <td>...</td>\n",
              "      <td>288.705556</td>\n",
              "      <td>3600</td>\n",
              "      <td>0.034586</td>\n",
              "      <td>4.444444</td>\n",
              "      <td>54.444444</td>\n",
              "      <td>4.444444</td>\n",
              "      <td>54.444444</td>\n",
              "      <td>0.579227</td>\n",
              "      <td>0.748048</td>\n",
              "      <td>0.469231</td>\n",
              "    </tr>\n",
              "    <tr>\n",
              "      <th>4</th>\n",
              "      <td>20357</td>\n",
              "      <td>1855</td>\n",
              "      <td>8.09</td>\n",
              "      <td>281.7</td>\n",
              "      <td>10.97</td>\n",
              "      <td>71.9</td>\n",
              "      <td>192.4</td>\n",
              "      <td>120</td>\n",
              "      <td>40</td>\n",
              "      <td>5.966048</td>\n",
              "      <td>...</td>\n",
              "      <td>288.705556</td>\n",
              "      <td>3600</td>\n",
              "      <td>0.035494</td>\n",
              "      <td>4.444444</td>\n",
              "      <td>48.888889</td>\n",
              "      <td>4.444444</td>\n",
              "      <td>48.888889</td>\n",
              "      <td>0.579227</td>\n",
              "      <td>0.610521</td>\n",
              "      <td>0.469231</td>\n",
              "    </tr>\n",
              "  </tbody>\n",
              "</table>\n",
              "<p>5 rows × 28 columns</p>\n",
              "</div>\n",
              "      <button class=\"colab-df-convert\" onclick=\"convertToInteractive('df-a55ea385-b9bb-452a-97b4-d56b3d66f67f')\"\n",
              "              title=\"Convert this dataframe to an interactive table.\"\n",
              "              style=\"display:none;\">\n",
              "        \n",
              "  <svg xmlns=\"http://www.w3.org/2000/svg\" height=\"24px\"viewBox=\"0 0 24 24\"\n",
              "       width=\"24px\">\n",
              "    <path d=\"M0 0h24v24H0V0z\" fill=\"none\"/>\n",
              "    <path d=\"M18.56 5.44l.94 2.06.94-2.06 2.06-.94-2.06-.94-.94-2.06-.94 2.06-2.06.94zm-11 1L8.5 8.5l.94-2.06 2.06-.94-2.06-.94L8.5 2.5l-.94 2.06-2.06.94zm10 10l.94 2.06.94-2.06 2.06-.94-2.06-.94-.94-2.06-.94 2.06-2.06.94z\"/><path d=\"M17.41 7.96l-1.37-1.37c-.4-.4-.92-.59-1.43-.59-.52 0-1.04.2-1.43.59L10.3 9.45l-7.72 7.72c-.78.78-.78 2.05 0 2.83L4 21.41c.39.39.9.59 1.41.59.51 0 1.02-.2 1.41-.59l7.78-7.78 2.81-2.81c.8-.78.8-2.07 0-2.86zM5.41 20L4 18.59l7.72-7.72 1.47 1.35L5.41 20z\"/>\n",
              "  </svg>\n",
              "      </button>\n",
              "      \n",
              "  <style>\n",
              "    .colab-df-container {\n",
              "      display:flex;\n",
              "      flex-wrap:wrap;\n",
              "      gap: 12px;\n",
              "    }\n",
              "\n",
              "    .colab-df-convert {\n",
              "      background-color: #E8F0FE;\n",
              "      border: none;\n",
              "      border-radius: 50%;\n",
              "      cursor: pointer;\n",
              "      display: none;\n",
              "      fill: #1967D2;\n",
              "      height: 32px;\n",
              "      padding: 0 0 0 0;\n",
              "      width: 32px;\n",
              "    }\n",
              "\n",
              "    .colab-df-convert:hover {\n",
              "      background-color: #E2EBFA;\n",
              "      box-shadow: 0px 1px 2px rgba(60, 64, 67, 0.3), 0px 1px 3px 1px rgba(60, 64, 67, 0.15);\n",
              "      fill: #174EA6;\n",
              "    }\n",
              "\n",
              "    [theme=dark] .colab-df-convert {\n",
              "      background-color: #3B4455;\n",
              "      fill: #D2E3FC;\n",
              "    }\n",
              "\n",
              "    [theme=dark] .colab-df-convert:hover {\n",
              "      background-color: #434B5C;\n",
              "      box-shadow: 0px 1px 3px 1px rgba(0, 0, 0, 0.15);\n",
              "      filter: drop-shadow(0px 1px 2px rgba(0, 0, 0, 0.3));\n",
              "      fill: #FFFFFF;\n",
              "    }\n",
              "  </style>\n",
              "\n",
              "      <script>\n",
              "        const buttonEl =\n",
              "          document.querySelector('#df-a55ea385-b9bb-452a-97b4-d56b3d66f67f button.colab-df-convert');\n",
              "        buttonEl.style.display =\n",
              "          google.colab.kernel.accessAllowed ? 'block' : 'none';\n",
              "\n",
              "        async function convertToInteractive(key) {\n",
              "          const element = document.querySelector('#df-a55ea385-b9bb-452a-97b4-d56b3d66f67f');\n",
              "          const dataTable =\n",
              "            await google.colab.kernel.invokeFunction('convertToInteractive',\n",
              "                                                     [key], {});\n",
              "          if (!dataTable) return;\n",
              "\n",
              "          const docLinkHtml = 'Like what you see? Visit the ' +\n",
              "            '<a target=\"_blank\" href=https://colab.research.google.com/notebooks/data_table.ipynb>data table notebook</a>'\n",
              "            + ' to learn more about interactive tables.';\n",
              "          element.innerHTML = '';\n",
              "          dataTable['output_type'] = 'display_data';\n",
              "          await google.colab.output.renderOutput(dataTable, element);\n",
              "          const docLink = document.createElement('div');\n",
              "          docLink.innerHTML = docLinkHtml;\n",
              "          element.appendChild(docLink);\n",
              "        }\n",
              "      </script>\n",
              "    </div>\n",
              "  </div>\n",
              "  "
            ]
          },
          "metadata": {},
          "execution_count": 6
        }
      ],
      "source": [
        "df = pd.read_excel('Compressor Data.xlsx')\n",
        "df.head()"
      ]
    },
    {
      "cell_type": "code",
      "source": [
        "df['Mdot [kg/hr]'] = np.around(df['Mdot [kg/hr]'].to_numpy(), decimals=1)"
      ],
      "metadata": {
        "id": "U_BI1c-7rVR7"
      },
      "execution_count": null,
      "outputs": []
    },
    {
      "cell_type": "code",
      "source": [
        "df['Pevap [kPa]'] = df['Pevap [Pa]'] / 1000\n",
        "df['Pcond [kPa]'] = df['Pcond [Pa]'] / 1000\n",
        "df['Pevap [kPa]'] = np.around(df['Pevap [kPa]'].to_numpy(), decimals=1)\n",
        "df['Pcond [kPa]'] = np.around(df['Pcond [kPa]'].to_numpy(), decimals=1)"
      ],
      "metadata": {
        "id": "W2E1IhQtrzMw"
      },
      "execution_count": null,
      "outputs": []
    },
    {
      "cell_type": "code",
      "source": [
        "df['Tsuc [K]'] = np.around(df['Tsuc [K]'].to_numpy(), decimals=1)"
      ],
      "metadata": {
        "id": "obHhmXOhtjcZ"
      },
      "execution_count": null,
      "outputs": []
    },
    {
      "cell_type": "markdown",
      "source": [
        "# **Selecting Data from the data set**\n",
        "## We need to define what our inputs and outputs will be.\n",
        "\n",
        "### Here we use pandas to grab the columns of data we are interested in.\n",
        "\n",
        "### Here we want inputs to be: \n",
        "* Evaporating Pressure: ```Pevap [kPa]```\n",
        "* Condensing Pressure: ```Pcond [kPa]```\n",
        "* Suction Temperature: ```Tsuc [K]```\n",
        "\n",
        "### And the outputs to be:\n",
        "* Power: ```Power [W]```\n",
        "* Mass Flow Rate: ```Mdot [kg/hr]```\n",
        "\n",
        "## In Machine Learning the inputs are called ```features``` and the outputs are called ```labels```\n",
        "\n"
      ],
      "metadata": {
        "id": "GOPJ2kqDNjKi"
      }
    },
    {
      "cell_type": "markdown",
      "source": [
        "Note: we use the method ```to_numpy()``` to convert the dataframe series object into numpy arrays"
      ],
      "metadata": {
        "id": "UyAx1LnAPYP5"
      }
    },
    {
      "cell_type": "code",
      "execution_count": null,
      "metadata": {
        "id": "KE0-Gj2BZ3ck"
      },
      "outputs": [],
      "source": [
        "features = df[['Pevap [kPa]','Pcond [kPa]','Tsuc [K]']].to_numpy()\n",
        "labels = df[['Power [W]','Mdot [kg/hr]']].to_numpy()"
      ]
    },
    {
      "cell_type": "markdown",
      "source": [
        "If importing the data file didn't work for you. Copy and paste the below code into a code cell to use as the feature and labels.\n",
        "\n",
        "```  features = np.array([[ 530. , 2290.8,  272. ],\n",
        "                          [ 641.6, 2290.8,  277.6],\n",
        "                          [ 770.2, 2290.8,  283.2],\n",
        "                          [ 917.4, 3389. ,  288.7],\n",
        "                          [ 917.4, 2985.5,  288.7],\n",
        "                          [ 917.4, 2620.5,  288.7],\n",
        "                          [ 917.4, 2290.8,  288.7],\n",
        "                          [ 917.4, 1993.7,  288.7],\n",
        "                          [ 917.4, 1726.7,  288.7],\n",
        "                          [ 998.5, 2620.5,  291.5]])```\n",
        "\n",
        "``` labels = np.array([[1495., 68.3],\n",
        "       [1480., 87. ],\n",
        "       [1457., 107.3],\n",
        "       [2119., 124.5],\n",
        "       [1855., 127.8],\n",
        "       [1630., 130. ],\n",
        "       [1427., 131.7],\n",
        "       [1252., 133.8],\n",
        "       [1095., 135. ],\n",
        "       [1611., 143.5]]) ```"
      ],
      "metadata": {
        "id": "zh35Tpd2PtTL"
      }
    },
    {
      "cell_type": "code",
      "source": [
        "features = np.array([[ 530. , 2290.8, 272. ], [ 641.6, 2290.8, 277.6], [ 770.2, 2290.8, 283.2], [ 917.4, 3389. , 288.7], [ 917.4, 2985.5, 288.7], [ 917.4, 2620.5, 288.7], [ 917.4, 2290.8, 288.7], [ 917.4, 1993.7, 288.7], [ 917.4, 1726.7, 288.7], [ 998.5, 2620.5, 291.5]])\n",
        "\n",
        "labels = np.array([[1495., 68.3], [1480., 87. ], [1457., 107.3], [2119., 124.5], [1855., 127.8], [1630., 130. ], [1427., 131.7], [1252., 133.8], [1095., 135. ], [1611., 143.5]])"
      ],
      "metadata": {
        "id": "eHbm8owjfpVV"
      },
      "execution_count": null,
      "outputs": []
    },
    {
      "cell_type": "code",
      "source": [
        "features.shape"
      ],
      "metadata": {
        "colab": {
          "base_uri": "https://localhost:8080/"
        },
        "id": "l58PhAChwo1l",
        "outputId": "9301d7b9-46e9-47ea-9a3e-1bfb942c4412"
      },
      "execution_count": null,
      "outputs": [
        {
          "output_type": "execute_result",
          "data": {
            "text/plain": [
              "(10, 3)"
            ]
          },
          "metadata": {},
          "execution_count": 58
        }
      ]
    },
    {
      "cell_type": "markdown",
      "source": [
        "# **Imports**\n",
        "We need to import the ```tensorflow``` package and a couple of items within it.\n",
        "\n",
        "* Layers in ```tensorflow.keras```\n",
        "* callbacks in ```tensorflow.keras.callbacks```\n",
        "\n",
        "### Note: ```keras``` was the original machine learning package developed and used for python. Developers at Google incorporated it fully into ```tensorflow``` and built on it. "
      ],
      "metadata": {
        "id": "6Hacsou1URH2"
      }
    },
    {
      "cell_type": "code",
      "execution_count": null,
      "metadata": {
        "id": "j9_JlAu9Z3cl"
      },
      "outputs": [],
      "source": [
        "import tensorflow as tf\n",
        "from tensorflow.keras import layers\n",
        "from tensorflow.keras.callbacks import EarlyStopping"
      ]
    },
    {
      "cell_type": "markdown",
      "source": [
        "# **Defining a model**\n",
        "### We will used the ```Sequential``` model within ```keras```. It groups a linear stack of layers and runs them sequentially.\n",
        "\n",
        "## The syntax for the model is:\n",
        "\n",
        "```tf.keras.Sequential()```\n",
        "\n",
        "## We set the model object equal to a model variable\n",
        "\n",
        "```model = tf.keras.Sequential()```\n",
        "\n",
        "## Once the variable is set, we can run methods such as:\n",
        "\n",
        "* add\n",
        ">```model.add()```\n",
        "\n",
        "* compile\n",
        ">```model.compile()```\n",
        "\n",
        "* compute_loss\n",
        ">```model.compute_loss()```\n",
        "\n",
        "* compute_metrics\n",
        ">```model.compute_metrics()```\n",
        "\n",
        "* evaluate\n",
        ">```model.evaluate()```\n",
        "\n",
        "* fit\n",
        ">```model.fit()```\n",
        "\n",
        "* predict\n",
        ">```model.predict()```\n",
        "\n",
        "* summary\n",
        ">```model.summary()```\n",
        "\n",
        "* save\n",
        ">```model.save()```\n",
        "\n",
        "\n",
        "\n"
      ],
      "metadata": {
        "id": "Ns8EWW7G8K2T"
      }
    },
    {
      "cell_type": "code",
      "source": [
        "model = tf.keras.Sequential()"
      ],
      "metadata": {
        "id": "cwxQS83I79_E"
      },
      "execution_count": null,
      "outputs": []
    },
    {
      "cell_type": "markdown",
      "source": [
        "# **Layers**\n",
        "The layers method is how we add a layer of nodes to the neural network.\n",
        "* The syntax ```model.add()``` is used to add layers\n",
        "\n",
        "### For our model we will add one dense layer. Dense layers are fully connected meaning all inputs are passed to all nodes. Denses layer are accessed in ```layers``` using the syntax ```layers.Dense()```\n",
        "\n",
        "* We pass the layer to the ```model.add()``` method\n",
        ">```model.add(layer.Dense())```\n",
        "\n",
        "* ```layer.Dense()``` takes inputs that define it such as: number of nodes and activation function\n",
        "\n",
        "### Since we have 3 inputs: ```[Pevap, Pcond, Tsuc]```in the first layer we must define the input shape. The rest of the layers input shapes will be defined for us by ```tensorflow```.\n",
        "\n",
        "Lets our first layer to have:\n",
        "* 8 nodes\n",
        "* rectified linear as the activation function. \n",
        "\n",
        "```model.add(layer.Dense(8,input_shape=(3,),activation='relu')```\n",
        "\n",
        "### The last layer must have no activation function and the same number of nodes as outputs we are after. In our case: ```[power,mdot]```. Therefore we need 2 nodes.\n",
        "\n",
        "* Last layer needs 2 nodes\n",
        "\n",
        ">```model.add(layer.Dense(2))```\n",
        "\n",
        "## Now we have a our model initialized and layers added\n",
        "\n"
      ],
      "metadata": {
        "id": "Q3YQOFtS7eB5"
      }
    },
    {
      "cell_type": "code",
      "execution_count": null,
      "metadata": {
        "id": "l9wWmBRuZ3cm"
      },
      "outputs": [],
      "source": [
        "model.add(layers.Dense(8,input_shape=(3,),activation='relu'))\n",
        "model.add(layers.Dense(16,activation='relu'))\n",
        "# model.add(layers.Dense(16,activation='relu'))\n",
        "model.add(layers.Dense(2))"
      ]
    },
    {
      "cell_type": "markdown",
      "source": [
        "# **Compiling a model**\n",
        "```\n",
        "model.compile()\n",
        "```\n",
        "### *Pick an Optimizer:* \n",
        "```\n",
        "model.compile(optimizer=tf.keras.optimizers.Adamax(learning_rate=0.01),\n",
        "              )\n",
        "```\n",
        "1.   Adam\n",
        "> ```optimizer=tf.keras.optimizers.Adam(learning_rate=0.01)```\n",
        "2.   Adagrad\n",
        "> ```optimizer=tf.keras.optimizers.Adagrad(learning_rate=0.01)```\n",
        "3.   SGD (Stochastic Gradient Decent)\n",
        "> ```optimizer=tf.keras.optimizers.SGD(learning_rate=0.01)```\n",
        "4.   Adamax\n",
        "> ```optimizer=tf.keras.optimizers.Adamax(learning_rate=0.01)```\n",
        "\n",
        "### *Pick a loss metric to monitor*\n",
        "```\n",
        "model.compile(optimizer=tf.keras.optimizers.Adamax(learning_rate=0.01),\n",
        "              loss='mean_absolute_percentage_error',\n",
        "              )\n",
        "```\n",
        "1.   MAPE (Mean Absolute Percent Error)\n",
        "> ``` loss='mean_absolute_percentage_error'```\n",
        "2.   MSE  (Mean Squared Error)\n",
        "> ``` loss='mean_squared_error'```\n",
        "3.   MAE  (Mean Absolute Error)\n",
        "> ``` loss='mean_absolute_error'```\n",
        "\n",
        "## Now we have our model compiled with an optimizer and loss metric selected\n",
        "\n",
        "\n"
      ],
      "metadata": {
        "id": "I1Al8SqWDtfX"
      }
    },
    {
      "cell_type": "code",
      "execution_count": null,
      "metadata": {
        "id": "aCUM_TraZ3co"
      },
      "outputs": [],
      "source": [
        "model.compile(optimizer=tf.keras.optimizers.Adam(learning_rate=0.0007),\n",
        "              loss='mean_absolute_percentage_error'\n",
        "             )"
      ]
    },
    {
      "cell_type": "markdown",
      "source": [
        "# **Fit the model:**\n",
        "```\n",
        "model.fit()\n",
        "```\n",
        "## Feed in the:\n",
        "\n",
        "1. training data\n",
        "2. training time\n",
        "3. validation split\n",
        "4. callbacks\n",
        "\n",
        "### The ```model.fit()``` call returns an object that has the loss values recorded for each step. We can set this equal to a variable; ```history```\n",
        "```\n",
        "history = model.fit()\n",
        "```\n",
        "\n",
        "## Training Data\n",
        ">```history = model.fit(train_features,train_labels)```\n",
        "\n",
        "## Training Time\n",
        "* These are called 'epochs' and one epoch is complete after the optimizer calculated the loss and back propagated the error through the weights and biases.\n",
        "* The next epoch will use the weights and biases from the previous optimizer step, calculate the next loss,change the weights and biases again. \n",
        "\n",
        ">```\n",
        "history = model.fit(train_features,train_labels,\n",
        "                    epochs=1500)\n",
        "```\n",
        "\n",
        "## Validation Split\n",
        "* The validation split will select what percent of the training data will be used to calculate the validation loss.\n",
        "* These data points are not included in while the model is fitting and are used to make track how well the model is performing at data points it hasn't seen.\n",
        "* In our case we tell tensorflow to use 20% of the data as our validation set, or two data points.\n",
        "\n",
        ">```\n",
        "history = model.fit(train_features,train_labels,\n",
        "                    epochs=1500,\n",
        "                    validation_split=0.2)\n",
        "```\n",
        "\n",
        "## Callbacks\n",
        "* We set ```callbacks``` to monitor the model while its training and if a certain condition is met stop the training. \n",
        "* We set a callback to monitor our validation loss.\n",
        "\n",
        "```\n",
        "early_stopping = EarlyStopping(monitor ='val_loss',\n",
        "                               patience = 500)\n",
        "```\n",
        "\n",
        ">1.   If our validation loss is increasing while the loss is decreasing, we know we are overfitting.\n",
        ">2.   Ideally our loss and validation loss will both be decreasing. In that case we know our model is training to the data well and \"generalizing\" well to data it hasn't seen.\n",
        "\n",
        "```\n",
        "history = model.fit(train_features,train_labels,\n",
        "                    epochs=1500,\n",
        "                    verbose=0,\n",
        "                    validation_split=0.2,\n",
        "                    callbacks = [early_stopping]\n",
        "                   )\n",
        "```\n",
        "\n",
        "## Now we have the features and labels entered and our callbacks and training time set. It's time to fit the model"
      ],
      "metadata": {
        "id": "tN76L5ZvMumj"
      }
    },
    {
      "cell_type": "code",
      "source": [
        "early_stopping = EarlyStopping(monitor ='val_loss',\n",
        "                               patience = 500)"
      ],
      "metadata": {
        "id": "ZsPx3mCtThLO"
      },
      "execution_count": null,
      "outputs": []
    },
    {
      "cell_type": "code",
      "execution_count": null,
      "metadata": {
        "id": "gP07lxEMZ3cp"
      },
      "outputs": [],
      "source": [
        "history = model.fit(features,labels,\n",
        "                    epochs=2500,\n",
        "                    verbose=0,\n",
        "                    validation_split=0.2,\n",
        "                    callbacks = [early_stopping]\n",
        "                    )"
      ]
    },
    {
      "cell_type": "markdown",
      "source": [
        "# **Plotting the loss vs epochs to see how well the model trained**\n",
        "\n",
        "## When evaluating how the model did, remember you can go change any of the following hyperparameters to see if they generate better results for your data.\n",
        "* Number of nodes in a hidden layer: ```layer.Dense(20,activation='relu')```\n",
        "* Number of hidden layers:\n",
        "\n",
        ">1.   ``` layer.Dense(20,activation='relu') ```\n",
        ">2.   ``` layer.Dense(20,activation='relu') ```\n",
        ">3.   ``` layer.Dense(20,activation='relu') ```\n",
        "\n",
        "* Optimizer: ```Adam```,```Adagrad```,```SGD```,```Adamax``` etc.\n",
        "\n",
        "* Loss Metric: ```mape```,```mae```,```mse``` etc.\n",
        "\n",
        "* Training Time: ```epochs=10000```\n",
        "\n",
        "* Learning Rate: ```tf.kera.optimizers.Adam(learning_rate=0.1)```"
      ],
      "metadata": {
        "id": "cbeT-IHWUjyW"
      }
    },
    {
      "cell_type": "code",
      "execution_count": null,
      "metadata": {
        "id": "oKDkY0spZ3cp"
      },
      "outputs": [],
      "source": [
        "import matplotlib.pyplot as plt\n",
        "\n",
        "def plot_loss(history):\n",
        "  plt.plot(history.history['loss'], label='loss')\n",
        "  plt.plot(history.history['val_loss'], label='val_loss')\n",
        "  plt.ylim([0, 10])\n",
        "  plt.xlabel('Epoch')\n",
        "  plt.ylabel('Error')\n",
        "  plt.legend()\n",
        "  plt.grid(True)"
      ]
    },
    {
      "cell_type": "code",
      "execution_count": null,
      "metadata": {
        "id": "nRvNowVDZ3cq",
        "outputId": "71f42744-54a9-462e-91ef-9deba1739c39",
        "colab": {
          "base_uri": "https://localhost:8080/",
          "height": 283
        }
      },
      "outputs": [
        {
          "output_type": "display_data",
          "data": {
            "text/plain": [
              "<Figure size 432x288 with 1 Axes>"
            ],
            "image/png": "[encoded data removed]"
          },
          "metadata": {
            "needs_background": "light"
          }
        }
      ],
      "source": [
        "plot_loss(history)"
      ]
    },
    {
      "cell_type": "markdown",
      "source": [
        "# **Using the model to predict data**\n",
        "\n",
        "## After fitting the model to our data, we can use ```model.predict() ``` to see the results our model is producing. \n",
        "\n",
        "``` model.predict(features)```\n",
        "\n",
        "## Note: we have to give our model inputs to predict the outputs, in this case we just run it with the training data.\n",
        "\n"
      ],
      "metadata": {
        "id": "41VgUlVfTZHo"
      }
    },
    {
      "cell_type": "code",
      "execution_count": null,
      "metadata": {
        "id": "vvLdeXXQZ3cq",
        "colab": {
          "base_uri": "https://localhost:8080/"
        },
        "outputId": "8fa6cf69-7b33-4dd0-abf0-c39fc73dc417"
      },
      "outputs": [
        {
          "output_type": "execute_result",
          "data": {
            "text/plain": [
              "array([[1495.7269 ,   68.61523],\n",
              "       [1477.8643 ,   86.89652],\n",
              "       [1456.6301 ,  107.9755 ],\n",
              "       [2099.4424 ,  125.19866],\n",
              "       [1854.0756 ,  127.74057],\n",
              "       [1632.1206 ,  130.03998],\n",
              "       [1431.6313 ,  132.11696],\n",
              "       [1250.9661 ,  133.9886 ],\n",
              "       [1088.6045 ,  135.67061],\n",
              "       [1618.172  ,  143.34422]], dtype=float32)"
            ]
          },
          "metadata": {},
          "execution_count": 70
        }
      ],
      "source": [
        "test_predictions = model.predict(features)\n",
        "test_predictions"
      ]
    },
    {
      "cell_type": "code",
      "execution_count": null,
      "metadata": {
        "id": "6T121B1UZ3cr",
        "outputId": "9da2014e-5ad1-41b5-eda5-f0adef703d5e",
        "colab": {
          "base_uri": "https://localhost:8080/",
          "height": 297
        }
      },
      "outputs": [
        {
          "output_type": "execute_result",
          "data": {
            "text/plain": [
              "[<matplotlib.lines.Line2D at 0x7f588cd5c490>]"
            ]
          },
          "metadata": {},
          "execution_count": 71
        },
        {
          "output_type": "display_data",
          "data": {
            "text/plain": [
              "<Figure size 432x288 with 1 Axes>"
            ],
            "image/png": "[encoded data removed]"
          },
          "metadata": {
            "needs_background": "light"
          }
        }
      ],
      "source": [
        "a = plt.axes(aspect='equal')\n",
        "plt.scatter(labels, test_predictions, edgecolor='black',alpha=0.7)\n",
        "plt.xlabel('True Values')\n",
        "plt.ylabel('Predictions')\n",
        "lims = [0, 1500]\n",
        "plt.xlim(lims)\n",
        "plt.ylim(lims)\n",
        "plt.plot(lims, lims)"
      ]
    },
    {
      "cell_type": "markdown",
      "source": [
        "# **Plotting the results for Mass Flow Rate individually**"
      ],
      "metadata": {
        "id": "q0kqM7P1VBuT"
      }
    },
    {
      "cell_type": "code",
      "execution_count": null,
      "metadata": {
        "id": "bxgd9FUhZ3cr",
        "colab": {
          "base_uri": "https://localhost:8080/",
          "height": 301
        },
        "outputId": "e83dc603-7090-4aae-e6c3-ebc8f4ffa2c2"
      },
      "outputs": [
        {
          "output_type": "execute_result",
          "data": {
            "text/plain": [
              "[<matplotlib.lines.Line2D at 0x7f588cde83d0>]"
            ]
          },
          "metadata": {},
          "execution_count": 72
        },
        {
          "output_type": "display_data",
          "data": {
            "text/plain": [
              "<Figure size 432x288 with 1 Axes>"
            ],
            "image/png": "[encoded data removed]"
          },
          "metadata": {
            "needs_background": "light"
          }
        }
      ],
      "source": [
        "a = plt.axes(aspect='equal')\n",
        "plt.scatter(labels[:,1], test_predictions[:,1], edgecolor='black',alpha=0.7)\n",
        "plt.xlabel('True Mass Flow [kg/hr]')\n",
        "plt.ylabel('Predicted Mass Flow [kg/hr]')\n",
        "lims = [0, 200]\n",
        "plt.xlim(lims)\n",
        "plt.ylim(lims)\n",
        "plt.plot(lims, lims)"
      ]
    },
    {
      "cell_type": "markdown",
      "source": [
        "# **Plotting the results for Power individually**"
      ],
      "metadata": {
        "id": "ZpCtz3OxVQaP"
      }
    },
    {
      "cell_type": "code",
      "source": [
        "a = plt.axes(aspect='equal')\n",
        "plt.scatter(labels[:,0], test_predictions[:,0], edgecolor='black',alpha=0.7)\n",
        "plt.xlabel('True Power [W]')\n",
        "plt.ylabel('Predicted Power [W]')\n",
        "lims = [800, 2000]\n",
        "plt.xlim(lims)\n",
        "plt.ylim(lims)\n",
        "plt.plot(lims, lims)"
      ],
      "metadata": {
        "colab": {
          "base_uri": "https://localhost:8080/",
          "height": 301
        },
        "id": "jncB2Vuu5qKo",
        "outputId": "bb78cf49-2afb-42a1-8ee7-12573a0234fc"
      },
      "execution_count": null,
      "outputs": [
        {
          "output_type": "execute_result",
          "data": {
            "text/plain": [
              "[<matplotlib.lines.Line2D at 0x7f588ccf4550>]"
            ]
          },
          "metadata": {},
          "execution_count": 73
        },
        {
          "output_type": "display_data",
          "data": {
            "text/plain": [
              "<Figure size 432x288 with 1 Axes>"
            ],
            "image/png": "[encoded data removed]"
          },
          "metadata": {
            "needs_background": "light"
          }
        }
      ]
    },
    {
      "cell_type": "code",
      "execution_count": null,
      "metadata": {
        "id": "lVYAUWdyZ3cr"
      },
      "outputs": [],
      "source": [
        "# model.save('Appr2-Scroll-ANN-8x1_MSE_09.27.21')"
      ]
    },
    {
      "cell_type": "code",
      "source": [
        "model.evaluate(features,labels)"
      ],
      "metadata": {
        "colab": {
          "base_uri": "https://localhost:8080/"
        },
        "id": "UL9LQ2SG1DmT",
        "outputId": "0391396f-6b20-4b55-8912-73d7592c034c"
      },
      "execution_count": null,
      "outputs": [
        {
          "output_type": "stream",
          "name": "stdout",
          "text": [
            "1/1 [==============================] - 0s 29ms/step - loss: 0.2834\n"
          ]
        },
        {
          "output_type": "execute_result",
          "data": {
            "text/plain": [
              "0.2834450602531433"
            ]
          },
          "metadata": {},
          "execution_count": 74
        }
      ]
    },
    {
      "cell_type": "code",
      "source": [
        "from sklearn.metrics import mean_absolute_error, max_error"
      ],
      "metadata": {
        "id": "Jh_i4sPZ1NXl"
      },
      "execution_count": null,
      "outputs": []
    },
    {
      "cell_type": "code",
      "source": [
        "mae = mean_absolute_error(labels,test_predictions)\n",
        "mae"
      ],
      "metadata": {
        "colab": {
          "base_uri": "https://localhost:8080/"
        },
        "id": "Jnvnjnt431Im",
        "outputId": "beeb9e61-91e1-4e41-db6a-140e12514da2"
      },
      "execution_count": null,
      "outputs": [
        {
          "output_type": "execute_result",
          "data": {
            "text/plain": [
              "2.4196107482910154"
            ]
          },
          "metadata": {},
          "execution_count": 76
        }
      ]
    },
    {
      "cell_type": "code",
      "source": [
        "me = max_error(labels[0],test_predictions[0])\n",
        "me"
      ],
      "metadata": {
        "colab": {
          "base_uri": "https://localhost:8080/"
        },
        "id": "MDVim7ae3-I2",
        "outputId": "2cae9a8a-b206-492e-8be2-a6962b51e3b0"
      },
      "execution_count": null,
      "outputs": [
        {
          "output_type": "execute_result",
          "data": {
            "text/plain": [
              "0.7269287109375"
            ]
          },
          "metadata": {},
          "execution_count": 79
        }
      ]
    },
    {
      "cell_type": "code",
      "source": [
        "me = max_error(labels[1],test_predictions[1])\n",
        "me"
      ],
      "metadata": {
        "colab": {
          "base_uri": "https://localhost:8080/"
        },
        "id": "seO-L6i84Hgq",
        "outputId": "acb94c4f-cf71-4c31-884a-335ed1e0a6a6"
      },
      "execution_count": null,
      "outputs": [
        {
          "output_type": "execute_result",
          "data": {
            "text/plain": [
              "2.1357421875"
            ]
          },
          "metadata": {},
          "execution_count": 80
        }
      ]
    },
    {
      "cell_type": "code",
      "source": [],
      "metadata": {
        "id": "k-nMYXpf4YDV"
      },
      "execution_count": null,
      "outputs": []
    }
  ],
  "metadata": {
    "kernelspec": {
      "display_name": "Python 3",
      "language": "python",
      "name": "python3"
    },
    "language_info": {
      "codemirror_mode": {
        "name": "ipython",
        "version": 3
      },
      "file_extension": ".py",
      "mimetype": "text/x-python",
      "name": "python",
      "nbconvert_exporter": "python",
      "pygments_lexer": "ipython3",
      "version": "3.8.5"
    },
    "colab": {
      "provenance": [],
      "collapsed_sections": [],
      "include_colab_link": true
    }
  },
  "nbformat": 4,
  "nbformat_minor": 0
}